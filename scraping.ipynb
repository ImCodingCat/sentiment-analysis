{
 "cells": [
  {
   "cell_type": "markdown",
   "metadata": {},
   "source": [
    "# Scraping from google playstore review data on Telkomsel app\n",
    "- Made by Muhammad Dava Pasha (mdavap) @ DiCoding"
   ]
  },
  {
   "cell_type": "markdown",
   "metadata": {},
   "source": [
    "## Import"
   ]
  },
  {
   "cell_type": "code",
   "execution_count": 2,
   "metadata": {},
   "outputs": [],
   "source": [
    "import csv\n",
    "from google_play_scraper import app, reviews_all, Sort"
   ]
  },
  {
   "cell_type": "markdown",
   "metadata": {},
   "source": [
    "## Scraping"
   ]
  },
  {
   "cell_type": "code",
   "execution_count": 3,
   "metadata": {},
   "outputs": [
    {
     "name": "stdout",
     "output_type": "stream",
     "text": [
      "Scrapping in progress\n",
      "Scraping finished\n"
     ]
    }
   ],
   "source": [
    "# Scrapping review dari aplikasi telkomsel\n",
    "print('Scrapping in progress')\n",
    "scrapreview = reviews_all(\n",
    "    'com.telkomsel.telkomselcm',        \n",
    "    lang='id',             \n",
    "    country='id',          \n",
    "    sort=Sort.MOST_RELEVANT,\n",
    "    count=10_500            \n",
    ")\n",
    "print('Scraping finished')"
   ]
  },
  {
   "cell_type": "markdown",
   "metadata": {},
   "source": [
    "## Saving"
   ]
  },
  {
   "cell_type": "code",
   "execution_count": 4,
   "metadata": {},
   "outputs": [
    {
     "name": "stdout",
     "output_type": "stream",
     "text": [
      "Review data has been saved to data.csv\n"
     ]
    }
   ],
   "source": [
    "with open('data.csv', mode='w', newline='', encoding='utf-8') as file:\n",
    "        writer = csv.writer(file)\n",
    "        writer.writerow(['Review'])\n",
    "        for review in scrapreview:\n",
    "            writer.writerow([review['content']])\n",
    "        \n",
    "print('Review data has been saved to data.csv')"
   ]
  }
 ],
 "metadata": {
  "kernelspec": {
   "display_name": "Python 3 (ipykernel)",
   "language": "python",
   "name": "python3"
  }
 },
 "nbformat": 4,
 "nbformat_minor": 2
}
