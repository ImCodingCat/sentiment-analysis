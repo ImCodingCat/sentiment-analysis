{
 "cells": [
  {
   "cell_type": "markdown",
   "metadata": {},
   "source": [
    "# Simple sentiment analysis from Telkomsel review googe playstore\n",
    "- Made by Muhammad Dava Pasha (mdavap) @ Dicoding\n",
    "\n",
    "# Resources\n",
    "- Lexicon @ https://github.com/fajri91/InSet"
   ]
  },
  {
   "cell_type": "markdown",
   "metadata": {},
   "source": [
    "## Import"
   ]
  },
  {
   "cell_type": "code",
   "execution_count": 1,
   "metadata": {},
   "outputs": [],
   "source": [
    "import pandas as pd\n",
    "import nltk\n",
    "import string\n",
    "import matplotlib.pyplot as plt\n",
    "from sklearn.feature_extraction.text import TfidfVectorizer\n",
    "from sklearn.model_selection import train_test_split\n",
    "from sklearn.metrics import accuracy_score\n",
    "from sklearn.linear_model import LogisticRegression\n",
    "from sklearn.preprocessing import LabelEncoder\n",
    "from sklearn.feature_extraction.text import CountVectorizer\n",
    "from sklearn.linear_model import SGDClassifier"
   ]
  },
  {
   "cell_type": "markdown",
   "metadata": {},
   "source": [
    "## Setup NTLK"
   ]
  },
  {
   "cell_type": "code",
   "execution_count": null,
   "metadata": {},
   "outputs": [],
   "source": [
    "nltk.download('stopwords')\n",
    "nltk.download('punkt')\n",
    "nltk.download('wordnet')\n",
    "nltk.download('punkt_tab')"
   ]
  },
  {
   "cell_type": "markdown",
   "metadata": {},
   "source": [
    "## Accessing data"
   ]
  },
  {
   "cell_type": "code",
   "execution_count": 3,
   "metadata": {},
   "outputs": [
    {
     "data": {
      "text/html": [
       "<div>\n",
       "<style scoped>\n",
       "    .dataframe tbody tr th:only-of-type {\n",
       "        vertical-align: middle;\n",
       "    }\n",
       "\n",
       "    .dataframe tbody tr th {\n",
       "        vertical-align: top;\n",
       "    }\n",
       "\n",
       "    .dataframe thead th {\n",
       "        text-align: right;\n",
       "    }\n",
       "</style>\n",
       "<table border=\"1\" class=\"dataframe\">\n",
       "  <thead>\n",
       "    <tr style=\"text-align: right;\">\n",
       "      <th></th>\n",
       "      <th>Review</th>\n",
       "    </tr>\n",
       "  </thead>\n",
       "  <tbody>\n",
       "    <tr>\n",
       "      <th>0</th>\n",
       "      <td>Saya sangat tidak suka fitur auto log-out nya,...</td>\n",
       "    </tr>\n",
       "    <tr>\n",
       "      <th>1</th>\n",
       "      <td>Animasi dan UI sekarang terlalu over bikin gak...</td>\n",
       "    </tr>\n",
       "    <tr>\n",
       "      <th>2</th>\n",
       "      <td>Apk sering terjadi bug. Slow refresh, miss not...</td>\n",
       "    </tr>\n",
       "    <tr>\n",
       "      <th>3</th>\n",
       "      <td>Aplikasi my Telkomsel sungguh luar biasa,, Buk...</td>\n",
       "    </tr>\n",
       "    <tr>\n",
       "      <th>4</th>\n",
       "      <td>Semenjak Indihome diintegrasikan ke Telkomsel ...</td>\n",
       "    </tr>\n",
       "  </tbody>\n",
       "</table>\n",
       "</div>"
      ],
      "text/plain": [
       "                                              Review\n",
       "0  Saya sangat tidak suka fitur auto log-out nya,...\n",
       "1  Animasi dan UI sekarang terlalu over bikin gak...\n",
       "2  Apk sering terjadi bug. Slow refresh, miss not...\n",
       "3  Aplikasi my Telkomsel sungguh luar biasa,, Buk...\n",
       "4  Semenjak Indihome diintegrasikan ke Telkomsel ..."
      ]
     },
     "execution_count": 3,
     "metadata": {},
     "output_type": "execute_result"
    }
   ],
   "source": [
    "data = pd.read_csv(\"./data.csv\")\n",
    "data.head()"
   ]
  },
  {
   "cell_type": "code",
   "execution_count": 4,
   "metadata": {},
   "outputs": [
    {
     "name": "stdout",
     "output_type": "stream",
     "text": [
      "<class 'pandas.core.frame.DataFrame'>\n",
      "RangeIndex: 108000 entries, 0 to 107999\n",
      "Data columns (total 1 columns):\n",
      " #   Column  Non-Null Count   Dtype \n",
      "---  ------  --------------   ----- \n",
      " 0   Review  108000 non-null  object\n",
      "dtypes: object(1)\n",
      "memory usage: 843.9+ KB\n"
     ]
    }
   ],
   "source": [
    "data.info()"
   ]
  },
  {
   "cell_type": "code",
   "execution_count": 5,
   "metadata": {},
   "outputs": [
    {
     "name": "stdout",
     "output_type": "stream",
     "text": [
      "Jumlah duplikasi pada data adalah 44\n"
     ]
    }
   ],
   "source": [
    "print(f'Jumlah duplikasi pada data adalah {data.duplicated().sum()}')"
   ]
  },
  {
   "cell_type": "code",
   "execution_count": 6,
   "metadata": {},
   "outputs": [],
   "source": [
    "data.drop_duplicates(inplace=True)"
   ]
  },
  {
   "cell_type": "code",
   "execution_count": 7,
   "metadata": {},
   "outputs": [
    {
     "name": "stdout",
     "output_type": "stream",
     "text": [
      "Jumlah duplikasi sekarang pada data adalah 0\n"
     ]
    }
   ],
   "source": [
    "print(f'Jumlah duplikasi sekarang pada data adalah {data.duplicated().sum()}')"
   ]
  },
  {
   "cell_type": "code",
   "execution_count": 8,
   "metadata": {},
   "outputs": [
    {
     "name": "stdout",
     "output_type": "stream",
     "text": [
      "<class 'pandas.core.frame.DataFrame'>\n",
      "Index: 107956 entries, 0 to 107999\n",
      "Data columns (total 1 columns):\n",
      " #   Column  Non-Null Count   Dtype \n",
      "---  ------  --------------   ----- \n",
      " 0   Review  107956 non-null  object\n",
      "dtypes: object(1)\n",
      "memory usage: 1.6+ MB\n"
     ]
    }
   ],
   "source": [
    "data.info()"
   ]
  },
  {
   "cell_type": "markdown",
   "metadata": {},
   "source": [
    "## Sentiment Analysis"
   ]
  },
  {
   "cell_type": "markdown",
   "metadata": {},
   "source": [
    "### Make a transformer"
   ]
  },
  {
   "cell_type": "code",
   "execution_count": 9,
   "metadata": {},
   "outputs": [],
   "source": [
    "stopwords = nltk.corpus.stopwords.words('indonesian')\n",
    "\n",
    "# Clean text\n",
    "def clean_text(input: str):\n",
    "    # Lower the input\n",
    "    lowered_text = input.lower()\n",
    "    # Replace newline with space\n",
    "    removed_newline = lowered_text.replace('\\n', ' ')\n",
    "    # Remove special characters\n",
    "    removed_special = removed_newline.translate(str.maketrans('', '', string.punctuation))\n",
    "    # Remove digits\n",
    "    removed_digit = ''.join([ch for ch in removed_special if not ch.isdigit()])\n",
    "    # Remove unicode things like emoji and so on\n",
    "    removed_unicode = removed_digit.encode('ascii', errors='ignore').decode('ascii')\n",
    "    # Remove stop words\n",
    "    removed_stopwords = ''.join([word for word in removed_unicode if not word in stopwords])\n",
    "    # Remove unused spaces\n",
    "    return removed_stopwords.strip()\n",
    "\n",
    "# Transform text into tokenized list\n",
    "def clean_and_tokenize(input: str):\n",
    "    cleaned = clean_text(input)\n",
    "    return nltk.word_tokenize(cleaned)\n",
    "\n",
    "def to_sentence(input: list):\n",
    "    return ' '.join(input)"
   ]
  },
  {
   "cell_type": "markdown",
   "metadata": {},
   "source": [
    "### Clean and Tokenize everything"
   ]
  },
  {
   "cell_type": "code",
   "execution_count": null,
   "metadata": {},
   "outputs": [
    {
     "name": "stdout",
     "output_type": "stream",
     "text": [
      "Transforming... Please wait...\n",
      "Transform is finished!\n"
     ]
    }
   ],
   "source": [
    "print('Transforming... Please wait...')\n",
    "data['Transformed'] = data['Review'].apply(clean_and_tokenize)\n",
    "print('Transform is finished!')"
   ]
  },
  {
   "cell_type": "code",
   "execution_count": 11,
   "metadata": {},
   "outputs": [],
   "source": [
    "data['Sentence'] = data['Transformed'].apply(to_sentence)"
   ]
  },
  {
   "cell_type": "markdown",
   "metadata": {},
   "source": [
    "### Load lexicon data"
   ]
  },
  {
   "cell_type": "code",
   "execution_count": 12,
   "metadata": {},
   "outputs": [
    {
     "data": {
      "text/html": [
       "<div>\n",
       "<style scoped>\n",
       "    .dataframe tbody tr th:only-of-type {\n",
       "        vertical-align: middle;\n",
       "    }\n",
       "\n",
       "    .dataframe tbody tr th {\n",
       "        vertical-align: top;\n",
       "    }\n",
       "\n",
       "    .dataframe thead th {\n",
       "        text-align: right;\n",
       "    }\n",
       "</style>\n",
       "<table border=\"1\" class=\"dataframe\">\n",
       "  <thead>\n",
       "    <tr style=\"text-align: right;\">\n",
       "      <th></th>\n",
       "      <th>word</th>\n",
       "      <th>weight</th>\n",
       "    </tr>\n",
       "  </thead>\n",
       "  <tbody>\n",
       "    <tr>\n",
       "      <th>0</th>\n",
       "      <td>hai</td>\n",
       "      <td>3</td>\n",
       "    </tr>\n",
       "    <tr>\n",
       "      <th>1</th>\n",
       "      <td>merekam</td>\n",
       "      <td>2</td>\n",
       "    </tr>\n",
       "    <tr>\n",
       "      <th>2</th>\n",
       "      <td>ekstensif</td>\n",
       "      <td>3</td>\n",
       "    </tr>\n",
       "    <tr>\n",
       "      <th>3</th>\n",
       "      <td>paripurna</td>\n",
       "      <td>1</td>\n",
       "    </tr>\n",
       "    <tr>\n",
       "      <th>4</th>\n",
       "      <td>detail</td>\n",
       "      <td>2</td>\n",
       "    </tr>\n",
       "  </tbody>\n",
       "</table>\n",
       "</div>"
      ],
      "text/plain": [
       "        word  weight\n",
       "0        hai       3\n",
       "1    merekam       2\n",
       "2  ekstensif       3\n",
       "3  paripurna       1\n",
       "4     detail       2"
      ]
     },
     "execution_count": 12,
     "metadata": {},
     "output_type": "execute_result"
    }
   ],
   "source": [
    "positive_df = pd.read_csv('./lexicon/positive.tsv', sep='\\t')\n",
    "negative_df = pd.read_csv('./lexicon/negative.tsv', sep='\\t')\n",
    "positive_df.head(5)"
   ]
  },
  {
   "cell_type": "code",
   "execution_count": 13,
   "metadata": {},
   "outputs": [
    {
     "data": {
      "text/html": [
       "<div>\n",
       "<style scoped>\n",
       "    .dataframe tbody tr th:only-of-type {\n",
       "        vertical-align: middle;\n",
       "    }\n",
       "\n",
       "    .dataframe tbody tr th {\n",
       "        vertical-align: top;\n",
       "    }\n",
       "\n",
       "    .dataframe thead th {\n",
       "        text-align: right;\n",
       "    }\n",
       "</style>\n",
       "<table border=\"1\" class=\"dataframe\">\n",
       "  <thead>\n",
       "    <tr style=\"text-align: right;\">\n",
       "      <th></th>\n",
       "      <th>word</th>\n",
       "      <th>weight</th>\n",
       "    </tr>\n",
       "  </thead>\n",
       "  <tbody>\n",
       "    <tr>\n",
       "      <th>0</th>\n",
       "      <td>putus tali gantung</td>\n",
       "      <td>-2</td>\n",
       "    </tr>\n",
       "    <tr>\n",
       "      <th>1</th>\n",
       "      <td>gelebah</td>\n",
       "      <td>-2</td>\n",
       "    </tr>\n",
       "    <tr>\n",
       "      <th>2</th>\n",
       "      <td>gobar hati</td>\n",
       "      <td>-2</td>\n",
       "    </tr>\n",
       "    <tr>\n",
       "      <th>3</th>\n",
       "      <td>tersentuh (perasaan)</td>\n",
       "      <td>-1</td>\n",
       "    </tr>\n",
       "    <tr>\n",
       "      <th>4</th>\n",
       "      <td>isak</td>\n",
       "      <td>-5</td>\n",
       "    </tr>\n",
       "  </tbody>\n",
       "</table>\n",
       "</div>"
      ],
      "text/plain": [
       "                   word  weight\n",
       "0    putus tali gantung      -2\n",
       "1               gelebah      -2\n",
       "2            gobar hati      -2\n",
       "3  tersentuh (perasaan)      -1\n",
       "4                  isak      -5"
      ]
     },
     "execution_count": 13,
     "metadata": {},
     "output_type": "execute_result"
    }
   ],
   "source": [
    "negative_df.head(5)"
   ]
  },
  {
   "cell_type": "code",
   "execution_count": 14,
   "metadata": {},
   "outputs": [
    {
     "name": "stdout",
     "output_type": "stream",
     "text": [
      "<class 'pandas.core.frame.DataFrame'>\n",
      "RangeIndex: 3609 entries, 0 to 3608\n",
      "Data columns (total 2 columns):\n",
      " #   Column  Non-Null Count  Dtype \n",
      "---  ------  --------------  ----- \n",
      " 0   word    3609 non-null   object\n",
      " 1   weight  3609 non-null   int64 \n",
      "dtypes: int64(1), object(1)\n",
      "memory usage: 56.5+ KB\n"
     ]
    }
   ],
   "source": [
    "positive_df.info()"
   ]
  },
  {
   "cell_type": "code",
   "execution_count": 15,
   "metadata": {},
   "outputs": [
    {
     "name": "stdout",
     "output_type": "stream",
     "text": [
      "<class 'pandas.core.frame.DataFrame'>\n",
      "RangeIndex: 6609 entries, 0 to 6608\n",
      "Data columns (total 2 columns):\n",
      " #   Column  Non-Null Count  Dtype \n",
      "---  ------  --------------  ----- \n",
      " 0   word    6609 non-null   object\n",
      " 1   weight  6609 non-null   int64 \n",
      "dtypes: int64(1), object(1)\n",
      "memory usage: 103.4+ KB\n"
     ]
    }
   ],
   "source": [
    "negative_df.info()"
   ]
  },
  {
   "cell_type": "markdown",
   "metadata": {},
   "source": [
    "### Labeling using lexicon data"
   ]
  },
  {
   "cell_type": "code",
   "execution_count": 16,
   "metadata": {},
   "outputs": [],
   "source": [
    "# Convert lexicon dataframe to dict word:weight\n",
    "positive_lexicon = dict()\n",
    "negative_lexicon = dict()\n",
    "\n",
    "for i, row in positive_df.iterrows():\n",
    "    positive_lexicon[row['word']] = row['weight']\n",
    "\n",
    "for i, row in negative_df.iterrows():\n",
    "    negative_lexicon[row['word']] = row['weight']"
   ]
  },
  {
   "cell_type": "code",
   "execution_count": 17,
   "metadata": {},
   "outputs": [],
   "source": [
    "def get_score_using_lexicon(input: list):\n",
    "    score = 0\n",
    "\n",
    "    # Add positive score\n",
    "    for word in input:\n",
    "        if word in positive_lexicon:\n",
    "            score += positive_lexicon[word]\n",
    "\n",
    "    # Add negative score\n",
    "    for word in input:\n",
    "        if word in negative_lexicon:\n",
    "            score += negative_lexicon[word]\n",
    "\n",
    "    sentiment = 'positive' if score >= 0 else 'negative'\n",
    "    return score, sentiment\n",
    "\n",
    "\n",
    "result_score = data['Transformed'].apply(get_score_using_lexicon)\n"
   ]
  },
  {
   "cell_type": "code",
   "execution_count": 18,
   "metadata": {},
   "outputs": [],
   "source": [
    "result_score = list(zip(*result_score))"
   ]
  },
  {
   "cell_type": "code",
   "execution_count": 19,
   "metadata": {},
   "outputs": [],
   "source": [
    "data['score_sentiment'] = result_score[0]\n",
    "data['sentiment'] = result_score[1]"
   ]
  },
  {
   "cell_type": "code",
   "execution_count": 20,
   "metadata": {},
   "outputs": [
    {
     "data": {
      "text/html": [
       "<div>\n",
       "<style scoped>\n",
       "    .dataframe tbody tr th:only-of-type {\n",
       "        vertical-align: middle;\n",
       "    }\n",
       "\n",
       "    .dataframe tbody tr th {\n",
       "        vertical-align: top;\n",
       "    }\n",
       "\n",
       "    .dataframe thead th {\n",
       "        text-align: right;\n",
       "    }\n",
       "</style>\n",
       "<table border=\"1\" class=\"dataframe\">\n",
       "  <thead>\n",
       "    <tr style=\"text-align: right;\">\n",
       "      <th></th>\n",
       "      <th>Review</th>\n",
       "      <th>Transformed</th>\n",
       "      <th>Sentence</th>\n",
       "      <th>score_sentiment</th>\n",
       "      <th>sentiment</th>\n",
       "    </tr>\n",
       "  </thead>\n",
       "  <tbody>\n",
       "    <tr>\n",
       "      <th>0</th>\n",
       "      <td>Saya sangat tidak suka fitur auto log-out nya,...</td>\n",
       "      <td>[saya, sangat, tidak, suka, fitur, auto, logou...</td>\n",
       "      <td>saya sangat tidak suka fitur auto logout nya d...</td>\n",
       "      <td>-25</td>\n",
       "      <td>negative</td>\n",
       "    </tr>\n",
       "    <tr>\n",
       "      <th>1</th>\n",
       "      <td>Animasi dan UI sekarang terlalu over bikin gak...</td>\n",
       "      <td>[animasi, dan, ui, sekarang, terlalu, over, bi...</td>\n",
       "      <td>animasi dan ui sekarang terlalu over bikin gak...</td>\n",
       "      <td>-31</td>\n",
       "      <td>negative</td>\n",
       "    </tr>\n",
       "    <tr>\n",
       "      <th>2</th>\n",
       "      <td>Apk sering terjadi bug. Slow refresh, miss not...</td>\n",
       "      <td>[apk, sering, terjadi, bug, slow, refresh, mis...</td>\n",
       "      <td>apk sering terjadi bug slow refresh miss notif...</td>\n",
       "      <td>-34</td>\n",
       "      <td>negative</td>\n",
       "    </tr>\n",
       "    <tr>\n",
       "      <th>3</th>\n",
       "      <td>Aplikasi my Telkomsel sungguh luar biasa,, Buk...</td>\n",
       "      <td>[aplikasi, my, telkomsel, sungguh, luar, biasa...</td>\n",
       "      <td>aplikasi my telkomsel sungguh luar biasa bukan...</td>\n",
       "      <td>-60</td>\n",
       "      <td>negative</td>\n",
       "    </tr>\n",
       "    <tr>\n",
       "      <th>4</th>\n",
       "      <td>Semenjak Indihome diintegrasikan ke Telkomsel ...</td>\n",
       "      <td>[semenjak, indihome, diintegrasikan, ke, telko...</td>\n",
       "      <td>semenjak indihome diintegrasikan ke telkomsel ...</td>\n",
       "      <td>-48</td>\n",
       "      <td>negative</td>\n",
       "    </tr>\n",
       "  </tbody>\n",
       "</table>\n",
       "</div>"
      ],
      "text/plain": [
       "                                              Review  \\\n",
       "0  Saya sangat tidak suka fitur auto log-out nya,...   \n",
       "1  Animasi dan UI sekarang terlalu over bikin gak...   \n",
       "2  Apk sering terjadi bug. Slow refresh, miss not...   \n",
       "3  Aplikasi my Telkomsel sungguh luar biasa,, Buk...   \n",
       "4  Semenjak Indihome diintegrasikan ke Telkomsel ...   \n",
       "\n",
       "                                         Transformed  \\\n",
       "0  [saya, sangat, tidak, suka, fitur, auto, logou...   \n",
       "1  [animasi, dan, ui, sekarang, terlalu, over, bi...   \n",
       "2  [apk, sering, terjadi, bug, slow, refresh, mis...   \n",
       "3  [aplikasi, my, telkomsel, sungguh, luar, biasa...   \n",
       "4  [semenjak, indihome, diintegrasikan, ke, telko...   \n",
       "\n",
       "                                            Sentence  score_sentiment  \\\n",
       "0  saya sangat tidak suka fitur auto logout nya d...              -25   \n",
       "1  animasi dan ui sekarang terlalu over bikin gak...              -31   \n",
       "2  apk sering terjadi bug slow refresh miss notif...              -34   \n",
       "3  aplikasi my telkomsel sungguh luar biasa bukan...              -60   \n",
       "4  semenjak indihome diintegrasikan ke telkomsel ...              -48   \n",
       "\n",
       "  sentiment  \n",
       "0  negative  \n",
       "1  negative  \n",
       "2  negative  \n",
       "3  negative  \n",
       "4  negative  "
      ]
     },
     "execution_count": 20,
     "metadata": {},
     "output_type": "execute_result"
    }
   ],
   "source": [
    "data.head(5)"
   ]
  },
  {
   "cell_type": "code",
   "execution_count": 21,
   "metadata": {},
   "outputs": [
    {
     "data": {
      "text/plain": [
       "sentiment\n",
       "negative    82929\n",
       "positive    25027\n",
       "Name: count, dtype: int64"
      ]
     },
     "execution_count": 21,
     "metadata": {},
     "output_type": "execute_result"
    }
   ],
   "source": [
    "sentiments = data['sentiment'].value_counts()\n",
    "sentiments"
   ]
  },
  {
   "cell_type": "markdown",
   "metadata": {},
   "source": [
    "### Visualisasi"
   ]
  },
  {
   "cell_type": "code",
   "execution_count": 22,
   "metadata": {},
   "outputs": [
    {
     "data": {
      "image/png": "[encoded data removed]",
      "text/plain": [
       "<Figure size 600x600 with 1 Axes>"
      ]
     },
     "metadata": {},
     "output_type": "display_data"
    }
   ],
   "source": [
    "fig, ax = plt.subplots(figsize=(6, 6))\n",
    "sizes = [count for count in sentiments]\n",
    "labels = sentiments.index\n",
    "ax.pie(x=sizes, labels=labels, autopct='%1.1f%%', explode=(0.1, 0), textprops={'fontsize': 15})\n",
    "ax.set_title('Sentiment on Review data', fontsize=20, pad=20)\n",
    "plt.show()"
   ]
  },
  {
   "cell_type": "markdown",
   "metadata": {},
   "source": [
    "## Machine learning"
   ]
  },
  {
   "cell_type": "code",
   "execution_count": 23,
   "metadata": {},
   "outputs": [],
   "source": [
    "t_vectorizer = TfidfVectorizer(max_features=800, min_df=20, max_df=0.8)\n",
    "x_result = t_vectorizer.fit_transform(data['Sentence'])"
   ]
  },
  {
   "cell_type": "code",
   "execution_count": 24,
   "metadata": {},
   "outputs": [
    {
     "data": {
      "text/plain": [
       "(107956, 800)"
      ]
     },
     "execution_count": 24,
     "metadata": {},
     "output_type": "execute_result"
    }
   ],
   "source": [
    "x_result.shape"
   ]
  },
  {
   "cell_type": "code",
   "execution_count": 25,
   "metadata": {},
   "outputs": [
    {
     "data": {
      "text/html": [
       "<div>\n",
       "<style scoped>\n",
       "    .dataframe tbody tr th:only-of-type {\n",
       "        vertical-align: middle;\n",
       "    }\n",
       "\n",
       "    .dataframe tbody tr th {\n",
       "        vertical-align: top;\n",
       "    }\n",
       "\n",
       "    .dataframe thead th {\n",
       "        text-align: right;\n",
       "    }\n",
       "</style>\n",
       "<table border=\"1\" class=\"dataframe\">\n",
       "  <thead>\n",
       "    <tr style=\"text-align: right;\">\n",
       "      <th></th>\n",
       "      <th>abis</th>\n",
       "      <th>ad</th>\n",
       "      <th>ada</th>\n",
       "      <th>adalah</th>\n",
       "      <th>adanya</th>\n",
       "      <th>admin</th>\n",
       "      <th>agak</th>\n",
       "      <th>agar</th>\n",
       "      <th>aj</th>\n",
       "      <th>aja</th>\n",
       "      <th>...</th>\n",
       "      <th>walaupun</th>\n",
       "      <th>wifi</th>\n",
       "      <th>wilayah</th>\n",
       "      <th>xl</th>\n",
       "      <th>ya</th>\n",
       "      <th>yaa</th>\n",
       "      <th>yah</th>\n",
       "      <th>yang</th>\n",
       "      <th>yg</th>\n",
       "      <th>youtube</th>\n",
       "    </tr>\n",
       "  </thead>\n",
       "  <tbody>\n",
       "    <tr>\n",
       "      <th>0</th>\n",
       "      <td>0.0</td>\n",
       "      <td>0.0</td>\n",
       "      <td>0.0</td>\n",
       "      <td>0.0</td>\n",
       "      <td>0.0</td>\n",
       "      <td>0.0</td>\n",
       "      <td>0.0</td>\n",
       "      <td>0.0</td>\n",
       "      <td>0.0</td>\n",
       "      <td>0.0</td>\n",
       "      <td>...</td>\n",
       "      <td>0.0</td>\n",
       "      <td>0.185395</td>\n",
       "      <td>0.0</td>\n",
       "      <td>0.000000</td>\n",
       "      <td>0.0</td>\n",
       "      <td>0.0</td>\n",
       "      <td>0.0</td>\n",
       "      <td>0.000000</td>\n",
       "      <td>0.0</td>\n",
       "      <td>0.0</td>\n",
       "    </tr>\n",
       "    <tr>\n",
       "      <th>1</th>\n",
       "      <td>0.0</td>\n",
       "      <td>0.0</td>\n",
       "      <td>0.0</td>\n",
       "      <td>0.0</td>\n",
       "      <td>0.0</td>\n",
       "      <td>0.0</td>\n",
       "      <td>0.0</td>\n",
       "      <td>0.0</td>\n",
       "      <td>0.0</td>\n",
       "      <td>0.0</td>\n",
       "      <td>...</td>\n",
       "      <td>0.0</td>\n",
       "      <td>0.000000</td>\n",
       "      <td>0.0</td>\n",
       "      <td>0.000000</td>\n",
       "      <td>0.0</td>\n",
       "      <td>0.0</td>\n",
       "      <td>0.0</td>\n",
       "      <td>0.231379</td>\n",
       "      <td>0.0</td>\n",
       "      <td>0.0</td>\n",
       "    </tr>\n",
       "    <tr>\n",
       "      <th>2</th>\n",
       "      <td>0.0</td>\n",
       "      <td>0.0</td>\n",
       "      <td>0.0</td>\n",
       "      <td>0.0</td>\n",
       "      <td>0.0</td>\n",
       "      <td>0.0</td>\n",
       "      <td>0.0</td>\n",
       "      <td>0.0</td>\n",
       "      <td>0.0</td>\n",
       "      <td>0.0</td>\n",
       "      <td>...</td>\n",
       "      <td>0.0</td>\n",
       "      <td>0.000000</td>\n",
       "      <td>0.0</td>\n",
       "      <td>0.000000</td>\n",
       "      <td>0.0</td>\n",
       "      <td>0.0</td>\n",
       "      <td>0.0</td>\n",
       "      <td>0.218171</td>\n",
       "      <td>0.0</td>\n",
       "      <td>0.0</td>\n",
       "    </tr>\n",
       "    <tr>\n",
       "      <th>3</th>\n",
       "      <td>0.0</td>\n",
       "      <td>0.0</td>\n",
       "      <td>0.0</td>\n",
       "      <td>0.0</td>\n",
       "      <td>0.0</td>\n",
       "      <td>0.0</td>\n",
       "      <td>0.0</td>\n",
       "      <td>0.0</td>\n",
       "      <td>0.0</td>\n",
       "      <td>0.0</td>\n",
       "      <td>...</td>\n",
       "      <td>0.0</td>\n",
       "      <td>0.000000</td>\n",
       "      <td>0.0</td>\n",
       "      <td>0.136966</td>\n",
       "      <td>0.0</td>\n",
       "      <td>0.0</td>\n",
       "      <td>0.0</td>\n",
       "      <td>0.064991</td>\n",
       "      <td>0.0</td>\n",
       "      <td>0.0</td>\n",
       "    </tr>\n",
       "    <tr>\n",
       "      <th>4</th>\n",
       "      <td>0.0</td>\n",
       "      <td>0.0</td>\n",
       "      <td>0.0</td>\n",
       "      <td>0.0</td>\n",
       "      <td>0.0</td>\n",
       "      <td>0.0</td>\n",
       "      <td>0.0</td>\n",
       "      <td>0.0</td>\n",
       "      <td>0.0</td>\n",
       "      <td>0.0</td>\n",
       "      <td>...</td>\n",
       "      <td>0.0</td>\n",
       "      <td>0.000000</td>\n",
       "      <td>0.0</td>\n",
       "      <td>0.000000</td>\n",
       "      <td>0.0</td>\n",
       "      <td>0.0</td>\n",
       "      <td>0.0</td>\n",
       "      <td>0.243163</td>\n",
       "      <td>0.0</td>\n",
       "      <td>0.0</td>\n",
       "    </tr>\n",
       "  </tbody>\n",
       "</table>\n",
       "<p>5 rows × 800 columns</p>\n",
       "</div>"
      ],
      "text/plain": [
       "   abis   ad  ada  adalah  adanya  admin  agak  agar   aj  aja  ...  walaupun  \\\n",
       "0   0.0  0.0  0.0     0.0     0.0    0.0   0.0   0.0  0.0  0.0  ...       0.0   \n",
       "1   0.0  0.0  0.0     0.0     0.0    0.0   0.0   0.0  0.0  0.0  ...       0.0   \n",
       "2   0.0  0.0  0.0     0.0     0.0    0.0   0.0   0.0  0.0  0.0  ...       0.0   \n",
       "3   0.0  0.0  0.0     0.0     0.0    0.0   0.0   0.0  0.0  0.0  ...       0.0   \n",
       "4   0.0  0.0  0.0     0.0     0.0    0.0   0.0   0.0  0.0  0.0  ...       0.0   \n",
       "\n",
       "       wifi  wilayah        xl   ya  yaa  yah      yang   yg  youtube  \n",
       "0  0.185395      0.0  0.000000  0.0  0.0  0.0  0.000000  0.0      0.0  \n",
       "1  0.000000      0.0  0.000000  0.0  0.0  0.0  0.231379  0.0      0.0  \n",
       "2  0.000000      0.0  0.000000  0.0  0.0  0.0  0.218171  0.0      0.0  \n",
       "3  0.000000      0.0  0.136966  0.0  0.0  0.0  0.064991  0.0      0.0  \n",
       "4  0.000000      0.0  0.000000  0.0  0.0  0.0  0.243163  0.0      0.0  \n",
       "\n",
       "[5 rows x 800 columns]"
      ]
     },
     "execution_count": 25,
     "metadata": {},
     "output_type": "execute_result"
    }
   ],
   "source": [
    "features_df = pd.DataFrame(x_result.toarray(), columns=t_vectorizer.get_feature_names_out())\n",
    "features_df.head(5)"
   ]
  },
  {
   "cell_type": "markdown",
   "metadata": {},
   "source": [
    "### Label encoding"
   ]
  },
  {
   "cell_type": "code",
   "execution_count": 26,
   "metadata": {},
   "outputs": [],
   "source": [
    "label_encoder = LabelEncoder()\n",
    "y_target = label_encoder.fit_transform(data['sentiment'])"
   ]
  },
  {
   "cell_type": "markdown",
   "metadata": {},
   "source": [
    "### Split data"
   ]
  },
  {
   "cell_type": "code",
   "execution_count": 27,
   "metadata": {},
   "outputs": [],
   "source": [
    "x_train, x_test, y_train, y_test = train_test_split(x_result, y_target, test_size=0.2, random_state=100)"
   ]
  },
  {
   "cell_type": "code",
   "execution_count": 28,
   "metadata": {},
   "outputs": [
    {
     "data": {
      "text/plain": [
       "(86364, 800)"
      ]
     },
     "execution_count": 28,
     "metadata": {},
     "output_type": "execute_result"
    }
   ],
   "source": [
    "x_train.shape"
   ]
  },
  {
   "cell_type": "code",
   "execution_count": 29,
   "metadata": {},
   "outputs": [
    {
     "data": {
      "text/plain": [
       "(21592,)"
      ]
     },
     "execution_count": 29,
     "metadata": {},
     "output_type": "execute_result"
    }
   ],
   "source": [
    "y_test.shape"
   ]
  },
  {
   "cell_type": "code",
   "execution_count": 30,
   "metadata": {},
   "outputs": [],
   "source": [
    "x_train = x_train.toarray()\n",
    "x_test = x_test.toarray()"
   ]
  },
  {
   "cell_type": "markdown",
   "metadata": {},
   "source": [
    "### Main Machine Learning using Logistic Regression"
   ]
  },
  {
   "cell_type": "code",
   "execution_count": 31,
   "metadata": {},
   "outputs": [
    {
     "name": "stdout",
     "output_type": "stream",
     "text": [
      "Logistic Regression on training data with accuracy: 0.9374739474781159\n",
      "Logistic Regression on test data with accuracy: 0.9337254538718044\n"
     ]
    }
   ],
   "source": [
    "logistic_regression = LogisticRegression()\n",
    "\n",
    "logistic_regression.fit(x_train, y_train)\n",
    "\n",
    "train_result = logistic_regression.predict(x_train)\n",
    "test_result = logistic_regression.predict(x_test)\n",
    "\n",
    "accuracy_train = accuracy_score(train_result, y_train)\n",
    "accuracy_test_lr = accuracy_score(test_result, y_test)\n",
    "\n",
    "print(f'Logistic Regression on training data with accuracy: {accuracy_train}')\n",
    "print(f'Logistic Regression on test data with accuracy: {accuracy_test_lr}')"
   ]
  },
  {
   "cell_type": "markdown",
   "metadata": {},
   "source": [
    "#### Inference with trained Logistic Regression"
   ]
  },
  {
   "cell_type": "code",
   "execution_count": 32,
   "metadata": {},
   "outputs": [
    {
     "name": "stdout",
     "output_type": "stream",
     "text": [
      "Sentiment: negative with review \"Paket ekstra kuota harian untuk halo pilihannya sekarang gak guna, masih lebih baik ekstra kuota harian yang lama, kecewa sama telkomsel, siap2 cari provider lain\"\n",
      "Sentiment: negative with review \"Makin mengecewakan masa dapet kuota hadiah dari daily check in malah ga kepake yg keambil kuota utama sangat kecewa, tidak membantu pengguna\"\n",
      "Sentiment: negative with review \"Sinyalnya n jaringan PD knp ini min dari kmrin.. 😭 dh beli kuota mhal2 tpi gini.. tlong tingkatn lagi kualitas nya min..thx nanti 🌟 naik dh. Skrg mlh ga bs pembayaran ke lainnya.. 🤦ampun dh psing\"\n",
      "Sentiment: positive with review \"Harga paket mahal,kualitas gitu2 aja. Seharusnya pemakaian kuota itu harus balance, jangan sedot kuota utama jika sedang YT ataupun multimedia lainnya. Kan jadi sayang kuota utama habis dan waktu paketnya juga habis pas sebulan yg kuota multimedia masih utuh. Saya biasa beli paket combo 52 GB (30 utama, 20 multimedia). Tolong perbaikilah supaya Untuk pemakaian internet kuota yg terpakai agar bisa balance dan juga untuk sisa kuota supaya bisa di akumulasikan ketika beli paket lagi.\"\n",
      "Sentiment: negative with review \"tolong pelayanan diperbaiki lagi,sy beli paket yg ada buat sosmednya entah paketan aplah itu,,ada buat nonton tiktok,youtube,dll,tp kenpa kuota utama dlu yg dipakai padahal jelas2 disitu ada kuota buat tiktok,youtube dll 15gb ,setelah kuota utama habis kuota sosmednya udah gak bisa dipakai padahal msh banyak,,ini temasuk penipuan bukan sih??\"\n",
      "Sentiment: negative with review \"Harga kuota mahal, koneksi internet lambat, paket Internet Sakti yang biasanya bundling Disney+ malah diganti jadi bundling Prime Video, harganya dinaikin pula, Telkomsel makin hari malah makin jelek.\"\n",
      "Sentiment: negative with review \"Perbaikin dong jaringannya, lemot bnget jaringannya. Udah paket internet nya mahal, jaringannya tetep lemot. Seharusnya harga dan kesesuaian jaringan nya juga Diperhatiin dong. KECEWA BANGET.\"\n",
      "Sentiment: negative with review \"sinyal nya tolong di perbaiki lg, di daerah jakarta pusat, di senen, sinyal nya susah bangt, tolong di perbaiki lg telkomsel, udah paketan nya mahal, sinyal nya susah, kacau banget, haduh pindah aja lah ke semartfren, yg lg ngetren sekarang, telkomsel paketan nya aja yg mahal, sinyal nya kurang bagus.\"\n",
      "Sentiment: negative with review \"Telkomsel gk jelas,pulsa aku tiba-tiba hilang padahal barusan aku lihat 11k pas mau beli paket tiba-tiba hilang 20 rupiah kan aneh,jadinya gk bisa beli paketnya,dan pas beli paket tukar poin 1 dengan 10 rupiah paket nya tidak bisa dipakai sama sekali,jadinya malah pulsa aku yang dimakan sama Telkomsel emang aneh Telkomsel, aplikasi myTelkomsel bikin promo tapi gk bisa dipakai sama sekali,ANEH, jadi bisa disimpulkan bahwa promo yang dibuat oleh myTelkomsel merugikan saya sebagai penggunanya.\"\n",
      "Sentiment: negative with review \"Kenapa kuota internet promo saya semakin mahal bkn nya murah temen saya selalu dpt promo yg murah dan mengutung kan sangat kecewa sekali apakah sim loop di lakukan berbeda ??? Bah kan kuota yg 4,5gb 20rb yg sering saya beli malah di hilang kan :( sangkin sering saya pakai ni app saya udh sampai prabayar Gold tpi ga ada ke untungan sama sekali semakin hari semakin mahal prmo semakin merugi kan pengguna 😡\"\n"
     ]
    }
   ],
   "source": [
    "def get_sentiment_analysis(input: pd.DataFrame):\n",
    "    index = input.index\n",
    "    prediction = logistic_regression.predict(x_result[index].toarray())\n",
    "    return label_encoder.inverse_transform(prediction)[0]\n",
    "\n",
    "# Inference with 10 sample\n",
    "for i in range(10):\n",
    "    sample = data.sample(1)\n",
    "    sentiment = get_sentiment_analysis(sample)\n",
    "    review = sample[\"Review\"].values[0]\n",
    "    print(f'Sentiment: {sentiment} with review \"{review}\"')"
   ]
  },
  {
   "cell_type": "markdown",
   "metadata": {},
   "source": [
    "### Schema 1\n",
    "- Logistic Regression\n",
    "- Split data 70/30"
   ]
  },
  {
   "cell_type": "code",
   "execution_count": 33,
   "metadata": {},
   "outputs": [],
   "source": [
    "x_train, x_test, y_train, y_test = train_test_split(x_result, y_target, test_size=0.3, random_state=500)"
   ]
  },
  {
   "cell_type": "code",
   "execution_count": 34,
   "metadata": {},
   "outputs": [
    {
     "name": "stdout",
     "output_type": "stream",
     "text": [
      "Logistic Regression [0.3] on training data with accuracy: 0.936574521298416\n",
      "Logistic Regression [0.3] on test data with accuracy: 0.931515731620712\n"
     ]
    }
   ],
   "source": [
    "logistic_regression = LogisticRegression()\n",
    "\n",
    "logistic_regression.fit(x_train, y_train)\n",
    "\n",
    "train_result = logistic_regression.predict(x_train)\n",
    "test_result = logistic_regression.predict(x_test)\n",
    "\n",
    "accuracy_train = accuracy_score(train_result, y_train)\n",
    "accuracy_test = accuracy_score(test_result, y_test)\n",
    "\n",
    "print(f'Logistic Regression [0.3] on training data with accuracy: {accuracy_train}')\n",
    "print(f'Logistic Regression [0.3] on test data with accuracy: {accuracy_test}')"
   ]
  },
  {
   "cell_type": "markdown",
   "metadata": {},
   "source": [
    "### Schema 2\n",
    "- Logistic Regression\n",
    "- Bag of Words (BoW)"
   ]
  },
  {
   "cell_type": "code",
   "execution_count": 35,
   "metadata": {},
   "outputs": [
    {
     "data": {
      "text/html": [
       "<div>\n",
       "<style scoped>\n",
       "    .dataframe tbody tr th:only-of-type {\n",
       "        vertical-align: middle;\n",
       "    }\n",
       "\n",
       "    .dataframe tbody tr th {\n",
       "        vertical-align: top;\n",
       "    }\n",
       "\n",
       "    .dataframe thead th {\n",
       "        text-align: right;\n",
       "    }\n",
       "</style>\n",
       "<table border=\"1\" class=\"dataframe\">\n",
       "  <thead>\n",
       "    <tr style=\"text-align: right;\">\n",
       "      <th></th>\n",
       "      <th>abis</th>\n",
       "      <th>ad</th>\n",
       "      <th>ada</th>\n",
       "      <th>adalah</th>\n",
       "      <th>adanya</th>\n",
       "      <th>admin</th>\n",
       "      <th>agak</th>\n",
       "      <th>agar</th>\n",
       "      <th>aj</th>\n",
       "      <th>aja</th>\n",
       "      <th>...</th>\n",
       "      <th>walaupun</th>\n",
       "      <th>wifi</th>\n",
       "      <th>wilayah</th>\n",
       "      <th>xl</th>\n",
       "      <th>ya</th>\n",
       "      <th>yaa</th>\n",
       "      <th>yah</th>\n",
       "      <th>yang</th>\n",
       "      <th>yg</th>\n",
       "      <th>youtube</th>\n",
       "    </tr>\n",
       "  </thead>\n",
       "  <tbody>\n",
       "    <tr>\n",
       "      <th>0</th>\n",
       "      <td>0</td>\n",
       "      <td>0</td>\n",
       "      <td>0</td>\n",
       "      <td>0</td>\n",
       "      <td>0</td>\n",
       "      <td>0</td>\n",
       "      <td>0</td>\n",
       "      <td>0</td>\n",
       "      <td>0</td>\n",
       "      <td>0</td>\n",
       "      <td>...</td>\n",
       "      <td>0</td>\n",
       "      <td>1</td>\n",
       "      <td>0</td>\n",
       "      <td>0</td>\n",
       "      <td>0</td>\n",
       "      <td>0</td>\n",
       "      <td>0</td>\n",
       "      <td>0</td>\n",
       "      <td>0</td>\n",
       "      <td>0</td>\n",
       "    </tr>\n",
       "    <tr>\n",
       "      <th>1</th>\n",
       "      <td>0</td>\n",
       "      <td>0</td>\n",
       "      <td>0</td>\n",
       "      <td>0</td>\n",
       "      <td>0</td>\n",
       "      <td>0</td>\n",
       "      <td>0</td>\n",
       "      <td>0</td>\n",
       "      <td>0</td>\n",
       "      <td>0</td>\n",
       "      <td>...</td>\n",
       "      <td>0</td>\n",
       "      <td>0</td>\n",
       "      <td>0</td>\n",
       "      <td>0</td>\n",
       "      <td>0</td>\n",
       "      <td>0</td>\n",
       "      <td>0</td>\n",
       "      <td>3</td>\n",
       "      <td>0</td>\n",
       "      <td>0</td>\n",
       "    </tr>\n",
       "    <tr>\n",
       "      <th>2</th>\n",
       "      <td>0</td>\n",
       "      <td>0</td>\n",
       "      <td>0</td>\n",
       "      <td>0</td>\n",
       "      <td>0</td>\n",
       "      <td>0</td>\n",
       "      <td>0</td>\n",
       "      <td>0</td>\n",
       "      <td>0</td>\n",
       "      <td>0</td>\n",
       "      <td>...</td>\n",
       "      <td>0</td>\n",
       "      <td>0</td>\n",
       "      <td>0</td>\n",
       "      <td>0</td>\n",
       "      <td>0</td>\n",
       "      <td>0</td>\n",
       "      <td>0</td>\n",
       "      <td>3</td>\n",
       "      <td>0</td>\n",
       "      <td>0</td>\n",
       "    </tr>\n",
       "    <tr>\n",
       "      <th>3</th>\n",
       "      <td>0</td>\n",
       "      <td>0</td>\n",
       "      <td>0</td>\n",
       "      <td>0</td>\n",
       "      <td>0</td>\n",
       "      <td>0</td>\n",
       "      <td>0</td>\n",
       "      <td>0</td>\n",
       "      <td>0</td>\n",
       "      <td>0</td>\n",
       "      <td>...</td>\n",
       "      <td>0</td>\n",
       "      <td>0</td>\n",
       "      <td>0</td>\n",
       "      <td>1</td>\n",
       "      <td>0</td>\n",
       "      <td>0</td>\n",
       "      <td>0</td>\n",
       "      <td>1</td>\n",
       "      <td>0</td>\n",
       "      <td>0</td>\n",
       "    </tr>\n",
       "    <tr>\n",
       "      <th>4</th>\n",
       "      <td>0</td>\n",
       "      <td>0</td>\n",
       "      <td>0</td>\n",
       "      <td>0</td>\n",
       "      <td>0</td>\n",
       "      <td>0</td>\n",
       "      <td>0</td>\n",
       "      <td>0</td>\n",
       "      <td>0</td>\n",
       "      <td>0</td>\n",
       "      <td>...</td>\n",
       "      <td>0</td>\n",
       "      <td>0</td>\n",
       "      <td>0</td>\n",
       "      <td>0</td>\n",
       "      <td>0</td>\n",
       "      <td>0</td>\n",
       "      <td>0</td>\n",
       "      <td>3</td>\n",
       "      <td>0</td>\n",
       "      <td>0</td>\n",
       "    </tr>\n",
       "  </tbody>\n",
       "</table>\n",
       "<p>5 rows × 800 columns</p>\n",
       "</div>"
      ],
      "text/plain": [
       "   abis  ad  ada  adalah  adanya  admin  agak  agar  aj  aja  ...  walaupun  \\\n",
       "0     0   0    0       0       0      0     0     0   0    0  ...         0   \n",
       "1     0   0    0       0       0      0     0     0   0    0  ...         0   \n",
       "2     0   0    0       0       0      0     0     0   0    0  ...         0   \n",
       "3     0   0    0       0       0      0     0     0   0    0  ...         0   \n",
       "4     0   0    0       0       0      0     0     0   0    0  ...         0   \n",
       "\n",
       "   wifi  wilayah  xl  ya  yaa  yah  yang  yg  youtube  \n",
       "0     1        0   0   0    0    0     0   0        0  \n",
       "1     0        0   0   0    0    0     3   0        0  \n",
       "2     0        0   0   0    0    0     3   0        0  \n",
       "3     0        0   1   0    0    0     1   0        0  \n",
       "4     0        0   0   0    0    0     3   0        0  \n",
       "\n",
       "[5 rows x 800 columns]"
      ]
     },
     "execution_count": 35,
     "metadata": {},
     "output_type": "execute_result"
    }
   ],
   "source": [
    "vectorizer = CountVectorizer(max_features=800)\n",
    "bow_matrix = vectorizer.fit_transform(data['Sentence'])\n",
    "\n",
    "features_df = pd.DataFrame(bow_matrix.toarray(), columns=vectorizer.get_feature_names_out())\n",
    "features_df.head(5)"
   ]
  },
  {
   "cell_type": "code",
   "execution_count": 36,
   "metadata": {},
   "outputs": [],
   "source": [
    "x_train, x_test, y_train, y_test = train_test_split(bow_matrix, y_target, test_size=0.2, random_state=100)"
   ]
  },
  {
   "cell_type": "code",
   "execution_count": 37,
   "metadata": {},
   "outputs": [],
   "source": [
    "x_train = x_train.toarray()\n",
    "x_test = x_test.toarray()"
   ]
  },
  {
   "cell_type": "code",
   "execution_count": 38,
   "metadata": {},
   "outputs": [
    {
     "name": "stdout",
     "output_type": "stream",
     "text": [
      "Logistic Regression (BoW) on training data with accuracy: 0.9444444444444444\n",
      "Logistic Regression (BoW) on test data with accuracy: 0.9385420526120786\n"
     ]
    }
   ],
   "source": [
    "logistic_regression = LogisticRegression()\n",
    "\n",
    "logistic_regression.fit(x_train, y_train)\n",
    "\n",
    "train_result = logistic_regression.predict(x_train)\n",
    "test_result = logistic_regression.predict(x_test)\n",
    "\n",
    "accuracy_train = accuracy_score(train_result, y_train)\n",
    "accuracy_test = accuracy_score(test_result, y_test)\n",
    "\n",
    "print(f'Logistic Regression (BoW) on training data with accuracy: {accuracy_train}')\n",
    "print(f'Logistic Regression (BoW) on test data with accuracy: {accuracy_test}')"
   ]
  },
  {
   "cell_type": "markdown",
   "metadata": {},
   "source": [
    "### Schema 3\n",
    "- SGDClassifier\n",
    "- Bag of Words (BoW)"
   ]
  },
  {
   "cell_type": "code",
   "execution_count": 39,
   "metadata": {},
   "outputs": [
    {
     "name": "stdout",
     "output_type": "stream",
     "text": [
      "SGDClassifier (BoW) on training data with accuracy: 0.9402991987402158\n",
      "SGDClassifier (BoW) on test data with accuracy: 0.9342812152649129\n"
     ]
    }
   ],
   "source": [
    "sgdclassifier = SGDClassifier()\n",
    "\n",
    "sgdclassifier.fit(x_train, y_train)\n",
    "\n",
    "train_result = sgdclassifier.predict(x_train)\n",
    "test_result = sgdclassifier.predict(x_test)\n",
    "\n",
    "accuracy_train = accuracy_score(train_result, y_train)\n",
    "accuracy_test = accuracy_score(test_result, y_test)\n",
    "\n",
    "print(f'SGDClassifier (BoW) on training data with accuracy: {accuracy_train}')\n",
    "print(f'SGDClassifier (BoW) on test data with accuracy: {accuracy_test}')"
   ]
  }
 ],
 "metadata": {
  "kernelspec": {
   "display_name": "Python 3 (ipykernel)",
   "language": "python",
   "name": "python3"
  },
  "language_info": {
   "codemirror_mode": {
    "name": "ipython",
    "version": 3
   },
   "file_extension": ".py",
   "mimetype": "text/x-python",
   "name": "python",
   "nbconvert_exporter": "python",
   "pygments_lexer": "ipython3",
   "version": "3.10.15"
  }
 },
 "nbformat": 4,
 "nbformat_minor": 2
}
